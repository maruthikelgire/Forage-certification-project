{
  "nbformat": 4,
  "nbformat_minor": 0,
  "metadata": {
    "colab": {
      "provenance": [],
      "authorship_tag": "ABX9TyNP8vZZIPugzI++/JW2fcV8",
      "include_colab_link": true
    },
    "kernelspec": {
      "name": "python3",
      "display_name": "Python 3"
    },
    "language_info": {
      "name": "python"
    }
  },
  "cells": [
    {
      "cell_type": "markdown",
      "metadata": {
        "id": "view-in-github",
        "colab_type": "text"
      },
      "source": [
        "<a href=\"https://colab.research.google.com/github/maruthikelgire/Forage-certification-project/blob/main/Task_2_Forage.ipynb\" target=\"_parent\"><img src=\"https://colab.research.google.com/assets/colab-badge.svg\" alt=\"Open In Colab\"/></a>"
      ]
    },
    {
      "cell_type": "code",
      "execution_count": null,
      "metadata": {
        "colab": {
          "base_uri": "https://localhost:8080/"
        },
        "id": "KEVcw0L3qDy-",
        "outputId": "6c23dc7b-6e6b-4e7d-84f6-ecfe3b027ad0"
      },
      "outputs": [
        {
          "output_type": "stream",
          "name": "stdout",
          "text": [
            "Original Data:\n",
            "  Customer_ID  Age    Income  Credit_Score  Credit_Utilization  \\\n",
            "0    CUST0001   56  165580.0         398.0            0.390502   \n",
            "1    CUST0002   69  100999.0         493.0            0.312444   \n",
            "2    CUST0003   46  188416.0         500.0            0.359930   \n",
            "3    CUST0004   32  101672.0         413.0            0.371400   \n",
            "4    CUST0005   60   38524.0         487.0            0.234716   \n",
            "\n",
            "   Missed_Payments  Delinquent_Account  Loan_Balance  Debt_to_Income_Ratio  \\\n",
            "0                3                   0       16310.0              0.317396   \n",
            "1                6                   1       17401.0              0.196093   \n",
            "2                0                   0       13761.0              0.301655   \n",
            "3                3                   0       88778.0              0.264794   \n",
            "4                2                   0       13316.0              0.510583   \n",
            "\n",
            "  Employment_Status  Account_Tenure Credit_Card_Type     Location Month_1  \\\n",
            "0               EMP              18          Student  Los Angeles    Late   \n",
            "1     Self-employed               0         Standard      Phoenix  Missed   \n",
            "2     Self-employed               1         Platinum      Chicago  Missed   \n",
            "3        Unemployed              15         Platinum      Phoenix    Late   \n",
            "4     Self-employed              11         Standard      Phoenix  Missed   \n",
            "\n",
            "   Month_2 Month_3  Month_4  Month_5  Month_6  \n",
            "0     Late  Missed     Late   Missed     Late  \n",
            "1   Missed    Late   Missed  On-time  On-time  \n",
            "2     Late    Late  On-time   Missed     Late  \n",
            "3   Missed    Late   Missed     Late     Late  \n",
            "4  On-time  Missed     Late     Late     Late  \n",
            "\n",
            "Dataset Info:\n",
            "<class 'pandas.core.frame.DataFrame'>\n",
            "RangeIndex: 500 entries, 0 to 499\n",
            "Data columns (total 19 columns):\n",
            " #   Column                Non-Null Count  Dtype  \n",
            "---  ------                --------------  -----  \n",
            " 0   Customer_ID           500 non-null    object \n",
            " 1   Age                   500 non-null    int64  \n",
            " 2   Income                461 non-null    float64\n",
            " 3   Credit_Score          498 non-null    float64\n",
            " 4   Credit_Utilization    500 non-null    float64\n",
            " 5   Missed_Payments       500 non-null    int64  \n",
            " 6   Delinquent_Account    500 non-null    int64  \n",
            " 7   Loan_Balance          471 non-null    float64\n",
            " 8   Debt_to_Income_Ratio  500 non-null    float64\n",
            " 9   Employment_Status     500 non-null    object \n",
            " 10  Account_Tenure        500 non-null    int64  \n",
            " 11  Credit_Card_Type      500 non-null    object \n",
            " 12  Location              500 non-null    object \n",
            " 13  Month_1               500 non-null    object \n",
            " 14  Month_2               500 non-null    object \n",
            " 15  Month_3               500 non-null    object \n",
            " 16  Month_4               500 non-null    object \n",
            " 17  Month_5               500 non-null    object \n",
            " 18  Month_6               500 non-null    object \n",
            "dtypes: float64(5), int64(4), object(10)\n",
            "memory usage: 74.3+ KB\n"
          ]
        }
      ],
      "source": [
        "import pandas as pd\n",
        "import numpy as np\n",
        "from sklearn.model_selection import train_test_split\n",
        "from sklearn.preprocessing import StandardScaler, OneHotEncoder\n",
        "from sklearn.compose import ColumnTransformer\n",
        "from sklearn.pipeline import Pipeline\n",
        "from sklearn.linear_model import LogisticRegression\n",
        "from sklearn.metrics import precision_score, recall_score, classification_report, confusion_matrix\n",
        "import matplotlib.pyplot as plt\n",
        "import seaborn as sns\n",
        "\n",
        "# Load the dataset\n",
        "df = pd.read_csv('/content/Delinquency_prediction_dataset_csv.csv')\n",
        "\n",
        "# Display the first few rows of the dataframe\n",
        "print(\"Original Data:\")\n",
        "print(df.head())\n",
        "\n",
        "# Get information about the dataset\n",
        "print(\"\\nDataset Info:\")\n",
        "df.info()"
      ]
    },
    {
      "cell_type": "code",
      "source": [
        "# Create the target variable 'Delinquent'\n",
        "# A customer is delinquent if they have missed at least one payment in the past 6 months.\n",
        "df['Delinquent'] = df[['Month_1', 'Month_2', 'Month_3', 'Month_4', 'Month_5', 'Month_6']].apply(lambda x: 1 if 'Missed' in x.values else 0, axis=1)\n",
        "\n",
        "# Drop the original payment history columns and Customer_ID\n",
        "df = df.drop(columns=['Customer_ID', 'Month_1', 'Month_2', 'Month_3', 'Month_4', 'Month_5', 'Month_6'])\n",
        "\n",
        "# Handle missing values\n",
        "# For simplicity, we'll fill missing numerical values with the mean.\n",
        "for col in ['Income', 'Credit_Score', 'Loan_Balance']:\n",
        "    if df[col].isnull().any():\n",
        "        df[col] = df[col].fillna(df[col].mean())\n",
        "\n",
        "# Separate features (X) and target (y)\n",
        "X = df.drop('Delinquent', axis=1)\n",
        "y = df['Delinquent']\n",
        "\n",
        "# Display the cleaned data and the distribution of the target variable\n",
        "print(\"Cleaned Data Head:\")\n",
        "print(X.head())\n",
        "print(\"\\nTarget Variable Distribution:\")\n",
        "print(y.value_counts())"
      ],
      "metadata": {
        "colab": {
          "base_uri": "https://localhost:8080/"
        },
        "id": "3LnUQ3VWqYdr",
        "outputId": "f2a996bd-0211-409a-d3e6-7f7ef49745e9"
      },
      "execution_count": null,
      "outputs": [
        {
          "output_type": "stream",
          "name": "stdout",
          "text": [
            "Cleaned Data Head:\n",
            "   Age    Income  Credit_Score  Credit_Utilization  Missed_Payments  \\\n",
            "0   56  165580.0         398.0            0.390502                3   \n",
            "1   69  100999.0         493.0            0.312444                6   \n",
            "2   46  188416.0         500.0            0.359930                0   \n",
            "3   32  101672.0         413.0            0.371400                3   \n",
            "4   60   38524.0         487.0            0.234716                2   \n",
            "\n",
            "   Delinquent_Account  Loan_Balance  Debt_to_Income_Ratio Employment_Status  \\\n",
            "0                   0       16310.0              0.317396               EMP   \n",
            "1                   1       17401.0              0.196093     Self-employed   \n",
            "2                   0       13761.0              0.301655     Self-employed   \n",
            "3                   0       88778.0              0.264794        Unemployed   \n",
            "4                   0       13316.0              0.510583     Self-employed   \n",
            "\n",
            "   Account_Tenure Credit_Card_Type     Location  \n",
            "0              18          Student  Los Angeles  \n",
            "1               0         Standard      Phoenix  \n",
            "2               1         Platinum      Chicago  \n",
            "3              15         Platinum      Phoenix  \n",
            "4              11         Standard      Phoenix  \n",
            "\n",
            "Target Variable Distribution:\n",
            "Delinquent\n",
            "1    460\n",
            "0     40\n",
            "Name: count, dtype: int64\n"
          ]
        }
      ]
    },
    {
      "cell_type": "code",
      "source": [
        "# Identify categorical and numerical features\n",
        "categorical_features = ['Employment_Status', 'Credit_Card_Type', 'Location']\n",
        "numerical_features = X.select_dtypes(include=np.number).columns.tolist()\n",
        "\n",
        "# Create a column transformer for preprocessing\n",
        "preprocessor = ColumnTransformer(\n",
        "    transformers=[\n",
        "        ('num', StandardScaler(), numerical_features),\n",
        "        ('cat', OneHotEncoder(handle_unknown='ignore'), categorical_features)\n",
        "    ])\n",
        "\n",
        "# Split data into training and testing sets\n",
        "X_train, X_test, y_train, y_test = train_test_split(X, y, test_size=0.2, random_state=42, stratify=y)\n",
        "\n",
        "print(\"Training data shape:\", X_train.shape)\n",
        "print(\"Testing data shape:\", X_test.shape)"
      ],
      "metadata": {
        "colab": {
          "base_uri": "https://localhost:8080/"
        },
        "id": "HObfocxXqfHo",
        "outputId": "1e075ba0-3562-4451-ce05-586498b31979"
      },
      "execution_count": null,
      "outputs": [
        {
          "output_type": "stream",
          "name": "stdout",
          "text": [
            "Training data shape: (400, 12)\n",
            "Testing data shape: (100, 12)\n"
          ]
        }
      ]
    },
    {
      "cell_type": "code",
      "source": [
        "# Create the logistic regression pipeline\n",
        "log_reg_pipeline = Pipeline(steps=[('preprocessor', preprocessor),\n",
        "                                 ('classifier', LogisticRegression(random_state=42))])\n",
        "\n",
        "# Train the model\n",
        "log_reg_pipeline.fit(X_train, y_train)\n",
        "\n",
        "print(\"Logistic Regression model trained successfully.\")"
      ],
      "metadata": {
        "colab": {
          "base_uri": "https://localhost:8080/"
        },
        "id": "w8sxhfVhqoEQ",
        "outputId": "2525b769-73a8-4ea1-9d52-9a734c007b17"
      },
      "execution_count": null,
      "outputs": [
        {
          "output_type": "stream",
          "name": "stdout",
          "text": [
            "Logistic Regression model trained successfully.\n"
          ]
        }
      ]
    },
    {
      "cell_type": "code",
      "source": [
        "# Make predictions on the test data\n",
        "y_pred = log_reg_pipeline.predict(X_test)\n",
        "\n",
        "# Calculate precision and recall\n",
        "precision = precision_score(y_test, y_pred)\n",
        "recall = recall_score(y_test, y_pred)\n",
        "\n",
        "print(f\"Precision: {precision:.4f}\")\n",
        "print(f\"Recall: {recall:.4f}\")\n",
        "\n",
        "# Display the classification report\n",
        "print(\"\\nClassification Report:\")\n",
        "print(classification_report(y_test, y_pred))\n",
        "\n",
        "# Generate and display the confusion matrix\n",
        "conf_matrix = confusion_matrix(y_test, y_pred)\n",
        "plt.figure(figsize=(8, 6))\n",
        "sns.heatmap(conf_matrix, annot=True, fmt='d', cmap='Blues', xticklabels=['Not Delinquent', 'Delinquent'], yticklabels=['Not Delinquent', 'Delinquent'])\n",
        "plt.xlabel('Predicted')\n",
        "plt.ylabel('Actual')\n",
        "plt.title('Confusion Matrix')\n",
        "plt.savefig('confusion_matrix.png')\n",
        "\n",
        "print(\"\\nConfusion matrix plot saved as confusion_matrix.png\")"
      ],
      "metadata": {
        "colab": {
          "base_uri": "https://localhost:8080/",
          "height": 948
        },
        "id": "DGcaN_TSqsQ4",
        "outputId": "465f9d5c-91b7-4f0d-caf1-f15645188624"
      },
      "execution_count": null,
      "outputs": [
        {
          "output_type": "stream",
          "name": "stdout",
          "text": [
            "Precision: 0.9200\n",
            "Recall: 1.0000\n",
            "\n",
            "Classification Report:\n",
            "              precision    recall  f1-score   support\n",
            "\n",
            "           0       0.00      0.00      0.00         8\n",
            "           1       0.92      1.00      0.96        92\n",
            "\n",
            "    accuracy                           0.92       100\n",
            "   macro avg       0.46      0.50      0.48       100\n",
            "weighted avg       0.85      0.92      0.88       100\n",
            "\n"
          ]
        },
        {
          "output_type": "stream",
          "name": "stderr",
          "text": [
            "/usr/local/lib/python3.11/dist-packages/sklearn/metrics/_classification.py:1565: UndefinedMetricWarning: Precision is ill-defined and being set to 0.0 in labels with no predicted samples. Use `zero_division` parameter to control this behavior.\n",
            "  _warn_prf(average, modifier, f\"{metric.capitalize()} is\", len(result))\n",
            "/usr/local/lib/python3.11/dist-packages/sklearn/metrics/_classification.py:1565: UndefinedMetricWarning: Precision is ill-defined and being set to 0.0 in labels with no predicted samples. Use `zero_division` parameter to control this behavior.\n",
            "  _warn_prf(average, modifier, f\"{metric.capitalize()} is\", len(result))\n",
            "/usr/local/lib/python3.11/dist-packages/sklearn/metrics/_classification.py:1565: UndefinedMetricWarning: Precision is ill-defined and being set to 0.0 in labels with no predicted samples. Use `zero_division` parameter to control this behavior.\n",
            "  _warn_prf(average, modifier, f\"{metric.capitalize()} is\", len(result))\n"
          ]
        },
        {
          "output_type": "stream",
          "name": "stdout",
          "text": [
            "\n",
            "Confusion matrix plot saved as confusion_matrix.png\n"
          ]
        },
        {
          "output_type": "display_data",
          "data": {
            "text/plain": [
              "<Figure size 800x600 with 2 Axes>"
            ],
            "image/png": "[encoded data removed]"
          },
          "metadata": {}
        }
      ]
    },
    {
      "cell_type": "code",
      "source": [
        "# Add predictions and actuals to the test set for bias analysis\n",
        "X_test_with_results = X_test.copy()\n",
        "X_test_with_results['Actual'] = y_test\n",
        "X_test_with_results['Predicted'] = y_pred\n",
        "\n",
        "# Analyze performance by Location\n",
        "location_performance = X_test_with_results.groupby('Location').apply(lambda x: pd.Series({\n",
        "    'precision': precision_score(x['Actual'], x['Predicted'], zero_division=0),\n",
        "    'recall': recall_score(x['Actual'], x['Predicted'], zero_division=0),\n",
        "    'count': len(x)\n",
        "}))\n",
        "\n",
        "print(\"Model Performance by Location:\")\n",
        "print(location_performance)"
      ],
      "metadata": {
        "colab": {
          "base_uri": "https://localhost:8080/"
        },
        "id": "GpbNlxJOqwSr",
        "outputId": "1331bcb4-74a3-4f6a-9af8-da5dd3fc0540"
      },
      "execution_count": null,
      "outputs": [
        {
          "output_type": "stream",
          "name": "stdout",
          "text": [
            "Model Performance by Location:\n",
            "             precision  recall  count\n",
            "Location                             \n",
            "Chicago       0.920000     1.0   25.0\n",
            "Houston       0.850000     1.0   20.0\n",
            "Los Angeles   1.000000     1.0   24.0\n",
            "New York      1.000000     1.0   12.0\n",
            "Phoenix       0.842105     1.0   19.0\n"
          ]
        },
        {
          "output_type": "stream",
          "name": "stderr",
          "text": [
            "/tmp/ipython-input-4011191845.py:7: DeprecationWarning: DataFrameGroupBy.apply operated on the grouping columns. This behavior is deprecated, and in a future version of pandas the grouping columns will be excluded from the operation. Either pass `include_groups=False` to exclude the groupings or explicitly select the grouping columns after groupby to silence this warning.\n",
            "  location_performance = X_test_with_results.groupby('Location').apply(lambda x: pd.Series({\n"
          ]
        }
      ]
    },
    {
      "cell_type": "code",
      "source": [],
      "metadata": {
        "id": "5VL8IGSkq2RH"
      },
      "execution_count": null,
      "outputs": []
    }
  ]
}